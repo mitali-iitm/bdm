{
 "cells": [
  {
   "cell_type": "markdown",
   "metadata": {},
   "source": [
    "# BDM - w2\n",
    "\n"
   ]
  },
  {
   "cell_type": "markdown",
   "metadata": {
    "jp-MarkdownHeadingCollapsed": true,
    "tags": []
   },
   "source": [
    "Market Demand\n",
    "    Sum of individual demands\n",
    "## Shifts in demand curve\n",
    "1. Income\n",
    "    * Inferior good\n",
    "    * normal good \n",
    "2. Price of related goods\n",
    "    * substitutes\n",
    "    * complements.\n",
    "3. Expectations\n",
    "4. Tastes\n",
    "5. Num of buyers\n",
    "\n",
    "### movement along d-curve\n",
    "price change\n",
    "\n",
    "## Equilibrium\n",
    "* Supply & Demand intersection\n",
    "* Market Clearing\n"
   ]
  },
  {
   "cell_type": "markdown",
   "metadata": {},
   "source": [
    "## Elasticity\n",
    "## Price Elasticity\n",
    "* $ \\frac{ratio\\ change\\ in\\ quant}{ratio\\ change\\ in\\ price}$\n",
    "* Substitutes\n",
    "* Necessities\n",
    "* Luxuaries.\n",
    "* Measures movement along the curve\n",
    "\n",
    "## income elasticity\n",
    "* measures shift in curve.\n",
    "* classifies goods into necess and luxuaries.\n",
    "\n",
    "## cross-price elasticity\n",
    "* classifies goods into complements and substitutes.\n"
   ]
  },
  {
   "cell_type": "markdown",
   "metadata": {},
   "source": [
    "## Supply\n",
    "### cost production\n",
    "#### Revenue\n",
    "1. Economic Profit\n",
    "2. Implicit Cost : using own resources, like family labour.\n",
    "3. Explicit Cost : outside firm\n",
    "\n",
    "* Opportunity Cost: Implicit + Explicit \n",
    "\n",
    "#### Types of Cost\n",
    "1. Direct and Indirect\n",
    "Outflow that is directly accountable to prodution\n",
    "2. Historical Cost and Replacement Cost\n",
    "Cost at time of purchace, replace\n",
    "ment cost need not be market value of asset in question.\n",
    "\n",
    "3. Fixed and variable\n",
    "fixed does not depend on output level.\n",
    "\n",
    "4. Real and prime \n",
    "all cost, marketting inclusive -fixed cost = prime cost\n",
    "\n"
   ]
  },
  {
   "cell_type": "markdown",
   "metadata": {},
   "source": [
    "https://docs.google.com/spreadsheets/d/1NzzOte83HZpAvgJGCiyJDJygZnE7wG-B_4xGD8FKt2A/edit#gid=0\n",
    "\n",
    "economies and diseconomies of scale\n"
   ]
  },
  {
   "cell_type": "markdown",
   "metadata": {},
   "source": [
    "sunk cost:\n",
    "lumpiness in machine functioning, upfront agency cost, etc.\n"
   ]
  },
  {
   "cell_type": "markdown",
   "metadata": {},
   "source": [
    "marginal product=$\\frac{change\\ in\\ output}{change\\ in\\ input}$\n",
    "### law of diminishing returns:\n",
    "additional units are combined with fixed inpt. then after *some* point marginal product starts to diminish.\n",
    "\n",
    "\n",
    "### short run costs\n",
    "like calculus\n",
    "* MP>AP AP is rising : stage I\n",
    "* MP=AP to MP=0 :STAGE II\n",
    "* MP=0 and onward : STAGE III\n",
    "\n",
    "### long run\n",
    "fixed cost is also variable in the long run\n",
    "**returns to scale** = resulting increase in total output as all inputs increase\n",
    "* Increasing RTS=doubles+ with doubling\n",
    "* Constant RTS=exact doubling\n",
    "* Dec RTS= less than double output for double input.\n",
    "\n",
    "### Production functions\n",
    "#### Cobb-Douglas function\n",
    "$$Q=aL^bK^c$$\n",
    "* b+c >1 IRTS\n",
    "* b+c =1 CRTS\n",
    "* b+c <1 DRTS\n",
    "\n",
    "### estimation of production functions\n",
    "* inputs measured as ***flow*** not ***stock***\n",
    "* most important input = labor\n",
    "\n",
    "### Capacity planning\n",
    "how much fixed inputs to utilize\n",
    "\n",
    "### Competetive Market\n",
    "* no control over price\n",
    "* marginal revenue doesnt change only\n",
    "* only contrable factor is quantity.\n",
    "* sold at MC intersects Price = MR\n"
   ]
  }
 ],
 "metadata": {
  "kernelspec": {
   "display_name": "Python 3",
   "language": "python",
   "name": "python3"
  },
  "language_info": {
   "codemirror_mode": {
    "name": "ipython",
    "version": 3
   },
   "file_extension": ".py",
   "mimetype": "text/x-python",
   "name": "python",
   "nbconvert_exporter": "python",
   "pygments_lexer": "ipython3",
   "version": "3.8.10"
  }
 },
 "nbformat": 4,
 "nbformat_minor": 4
}
