{
 "cells": [
  {
   "cell_type": "markdown",
   "metadata": {},
   "source": [
    "# BDM W3"
   ]
  },
  {
   "cell_type": "markdown",
   "metadata": {},
   "source": [
    "## Pricing strategy\n",
    "tactical variable\n"
   ]
  },
  {
   "cell_type": "markdown",
   "metadata": {},
   "source": [
    "1. Market Skimming\n",
    "   * High price low volume\n",
    "   * short life cycle\n",
    "   * like iPhone\n",
    "\n",
    "2. Value pricing\n",
    "    * based on consumer perception\n",
    "3. Loss leader\n",
    "    * deliberate low cost sale to encourage fringe buying and market share\n",
    "4. psychological pricing\n",
    "   *  0.99 etc\n",
    "5. going rate pricing\n",
    "   *  rival interaction\n",
    "6. tender pricing\n",
    "    * done in secret\n",
    "7. price discrimination\n",
    "    * impenetrable market\n",
    "    * charge differently for same product/service.\n",
    "    * no possibility of resale\n",
    "8. Penetration pricing\n",
    "    * long anticipated life cycle\n",
    "    *  low price to score market.\n",
    "    * eg jio\n",
    "9.  cost plus pricing\n",
    "    * cost+ mark-up= selling price\n",
    "    * maximize rate of returns\n",
    "10. contribution pricing\n",
    "    * contribution= sellingprice - variable(direct) cost\n",
    "11. Target pricing\n",
    "    * target of profit\n",
    "    * mark-up=profit/cost.\n",
    "12. marginal cost pricing\n",
    "\n",
    "13. absorption cost pricing\n",
    "    * full cost: cover both fixed and variable costs\n",
    "    * absorption: cover some of th fixed cost.\n",
    "14. destroyer pricing\n",
    "    * anti-competetive\n",
    "    * force rivals out.\n",
    "    * price cutting\n",
    "    "
   ]
  },
  {
   "cell_type": "markdown",
   "metadata": {},
   "source": [
    "## Financial Statements\n",
    "* Balance Sheets\n",
    "    * annual fincancial performance in terms of assesor liabilities\n",
    "* Income Statement\n",
    "    * from sales and non-sales\n",
    "* Cashflow Statement\n",
    "    * liquidity position\n",
    "    * delay?\n",
    "* Statement of Retained Earnings\n",
    "    * after paying all dividends and depriciation what is retained.\n",
    "\n",
    "## Key Ratios\n",
    "standardize data for comparison\n",
    "1. Liquidity\n",
    "    * ability of firm to pay its way\n",
    "    * acid test\n",
    "        * Quick Ratio = $\\frac{curr\\ assets -stock}{liabilities}$\n",
    "        * higher the better?\n",
    "    * current ratio= $\\frac{curr\\ assets}{curr\\ liabilities}$\n",
    "        * ideal at 1.5\n",
    "        * too high -> tied up assets.\n",
    "2. Investment/ SHareholders\n",
    "    * extent of risk\n",
    "    * earning potential\n",
    "    * earnings per share: $\\frac{profit\\ after\\ tax}{num\\ of\\ shares}$\n",
    "    * price earning ratio: $\\frac{market\\ price}{earnings\\ per\\ share}$\n",
    "    * Enterprise Value/ EBITDA ratio:\n",
    "        * operational performance\n",
    "        * higher the better\n",
    "     * dividend yield: $\\frac{ordinary\\ share\\ dividend}{market\\ price}$\n",
    "         * relates ROI to share price.  \n",
    "3. gearing\n",
    "    * exposure to loans vs share capital\n",
    "    * $\\frac{long\\ term\\ loans}{capital\\ employed}$\n",
    "    * higher ratio -> more exposed to interest rate fluctuations\n",
    "4. Profitability\n",
    "    * gross: turnover - vc(cost of sales)\n",
    "    * net: turnover -vc - fc(overheads)\n",
    "    * margin: $\\frac{profit}{turnover}$\n",
    "    * return on capital employed ROCE= $\\frac{profit}{capital\\ employed}$\n",
    "        * higher -> more efficient\n",
    "5. Financial \n",
    "    * rate of delling stocks and eff of using assets.\n",
    "    * Asset Turnover = $\\frac{sales\\ turnover}{assets\\ employed}$\n",
    "        * AT * NetPM = ROCE\n",
    "    * stock turnover= $\\frac{cost\\ of\\ goods\\ sold}{stock}$\n",
    "        * expressed in times per year.\n",
    "        * lower -> poor customer satisfaction\n",
    "    * Debtor Days = $\\frac{debtors}{sales\\ turnover}*365$\n",
    "        * how long to recover debts\n",
    "        * skewed by degree of credit offered"
   ]
  },
  {
   "cell_type": "markdown",
   "metadata": {},
   "source": [
    "## Ultratech\n",
    "* micro economic impact of macro policy\n",
    "* government stimulus - huge improvement.\n",
    "* used working capital to manage profits\n",
    "\n",
    "### cost lines\n",
    "* realization - revenue\n",
    "* operating margin - EBIDTA\n",
    "\n",
    "### valuation metristors\n",
    "RoCE=10% is not good enough for equity investors, ok for debt investors\n",
    "\n",
    "### volume trend and price tend\n",
    "* volume led\n",
    "* Earning before interest taxes and depriciation -> EBITDA -> similar to which graph?- leader\n",
    "\n",
    "\n",
    "\n"
   ]
  },
  {
   "cell_type": "markdown",
   "metadata": {},
   "source": [
    "## Textile - Page Industries\n",
    "* ROE very high\n",
    "* Not managed variable cost - labor intensive.\n",
    "* inventory - stocking up for demand variation\n",
    "\n"
   ]
  },
  {
   "cell_type": "markdown",
   "metadata": {},
   "source": [
    "## FMCG - NEstle\n",
    "* product differentiation\n",
    "* monopolistic\n",
    "* it is in decline, pov - investors\n",
    "* retail investors - will put money - high ROCE\n",
    "* do not lock capital\n",
    "* high profit margin\n"
   ]
  },
  {
   "cell_type": "markdown",
   "metadata": {},
   "source": [
    "## IT- TCS"
   ]
  },
  {
   "cell_type": "markdown",
   "metadata": {},
   "source": [
    "* BFSI invests most in IT\n",
    "* North america has automated more. We have lots of labor need for automation low.\n",
    "* well managed cost per employee\n"
   ]
  }
 ],
 "metadata": {
  "kernelspec": {
   "display_name": "Python 3",
   "language": "python",
   "name": "python3"
  },
  "language_info": {
   "codemirror_mode": {
    "name": "ipython",
    "version": 3
   },
   "file_extension": ".py",
   "mimetype": "text/x-python",
   "name": "python",
   "nbconvert_exporter": "python",
   "pygments_lexer": "ipython3",
   "version": "3.8.10"
  }
 },
 "nbformat": 4,
 "nbformat_minor": 4
}
